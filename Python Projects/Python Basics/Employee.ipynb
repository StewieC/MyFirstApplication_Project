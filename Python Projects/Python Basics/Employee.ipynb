{
 "cells": [
  {
   "cell_type": "code",
   "execution_count": 3,
   "id": "519feee0-88df-493f-af55-9079d54372eb",
   "metadata": {},
   "outputs": [],
   "source": [
    "class Employee:\n",
    "    def __init__(self, first, last, pay):\n",
    "        self.first = first\n",
    "        self.last = last\n",
    "        self.pay = pay\n",
    "        self.email = first+'.'+last+'@company.com'"
   ]
  },
  {
   "cell_type": "code",
   "execution_count": 4,
   "id": "4c21a673-b788-4a33-8e40-a165d0c7953e",
   "metadata": {},
   "outputs": [],
   "source": [
    "koshy = Employee('stewart','comfort',1000000)"
   ]
  },
  {
   "cell_type": "code",
   "execution_count": 5,
   "id": "971321d6-d006-42f0-bbcf-b74f08e1d4f6",
   "metadata": {},
   "outputs": [
    {
     "name": "stdout",
     "output_type": "stream",
     "text": [
      "<__main__.Employee object at 0x0000029CAFAABE10>\n"
     ]
    }
   ],
   "source": [
    "print(koshy)"
   ]
  },
  {
   "cell_type": "code",
   "execution_count": 6,
   "id": "7ff309f9-07ca-4a09-99d2-d6622ad4345b",
   "metadata": {},
   "outputs": [
    {
     "name": "stdout",
     "output_type": "stream",
     "text": [
      "stewart.comfort@company.com\n"
     ]
    }
   ],
   "source": [
    "print(koshy.email)"
   ]
  },
  {
   "cell_type": "code",
   "execution_count": 10,
   "id": "3a3ab6f2-074f-4998-a576-1518b5144781",
   "metadata": {},
   "outputs": [],
   "source": [
    "#method to print out the whole name of employee\n",
    "def fullname(self):\n",
    "    return '{} {}'.format(self.first, self.last)\n",
    "        "
   ]
  },
  {
   "cell_type": "code",
   "execution_count": null,
   "id": "64c51a94-64dd-49fe-98c4-e6718943f25c",
   "metadata": {},
   "outputs": [],
   "source": []
  }
 ],
 "metadata": {
  "kernelspec": {
   "display_name": "Python 3 (ipykernel)",
   "language": "python",
   "name": "python3"
  },
  "language_info": {
   "codemirror_mode": {
    "name": "ipython",
    "version": 3
   },
   "file_extension": ".py",
   "mimetype": "text/x-python",
   "name": "python",
   "nbconvert_exporter": "python",
   "pygments_lexer": "ipython3",
   "version": "3.11.7"
  }
 },
 "nbformat": 4,
 "nbformat_minor": 5
}
