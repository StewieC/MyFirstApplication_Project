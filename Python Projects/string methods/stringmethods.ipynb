{
 "cells": [
  {
   "cell_type": "code",
   "execution_count": 2,
   "id": "943f635b-da70-465c-aca0-a095c1eedfdd",
   "metadata": {},
   "outputs": [],
   "source": [
    "st = \"my name is koshy\""
   ]
  },
  {
   "cell_type": "code",
   "execution_count": 3,
   "id": "a56d3603-0931-485a-b770-64b583262492",
   "metadata": {},
   "outputs": [
    {
     "data": {
      "text/plain": [
       "'MY NAME IS KOSHY'"
      ]
     },
     "execution_count": 3,
     "metadata": {},
     "output_type": "execute_result"
    }
   ],
   "source": [
    "st.upper()"
   ]
  },
  {
   "cell_type": "code",
   "execution_count": 4,
   "id": "318f57ed-fb48-4fa2-92e8-4bbdfd0c3228",
   "metadata": {},
   "outputs": [
    {
     "data": {
      "text/plain": [
       "'my name is koshy'"
      ]
     },
     "execution_count": 4,
     "metadata": {},
     "output_type": "execute_result"
    }
   ],
   "source": [
    "st.lower()"
   ]
  },
  {
   "cell_type": "code",
   "execution_count": 5,
   "id": "a270696d-affc-4ef6-9f4f-0e7cb5db92e0",
   "metadata": {},
   "outputs": [
    {
     "data": {
      "text/plain": [
       "'my name is koshy'"
      ]
     },
     "execution_count": 5,
     "metadata": {},
     "output_type": "execute_result"
    }
   ],
   "source": [
    "st"
   ]
  },
  {
   "cell_type": "code",
   "execution_count": 7,
   "id": "cdc9a915-b226-4582-b48b-b4f9825edb58",
   "metadata": {},
   "outputs": [
    {
     "data": {
      "text/plain": [
       "1"
      ]
     },
     "execution_count": 7,
     "metadata": {},
     "output_type": "execute_result"
    }
   ],
   "source": [
    "st.find('y')"
   ]
  },
  {
   "cell_type": "code",
   "execution_count": 8,
   "id": "b99c08fa-9d31-451d-87fe-e4f55b0c6fc5",
   "metadata": {},
   "outputs": [
    {
     "data": {
      "text/plain": [
       "11"
      ]
     },
     "execution_count": 8,
     "metadata": {},
     "output_type": "execute_result"
    }
   ],
   "source": [
    "st.find('koshy')"
   ]
  },
  {
   "cell_type": "code",
   "execution_count": 12,
   "id": "1a33af56-1a6a-4b3f-bdbf-bfb4ab055202",
   "metadata": {},
   "outputs": [
    {
     "data": {
      "text/plain": [
       "'my name is stewie'"
      ]
     },
     "execution_count": 12,
     "metadata": {},
     "output_type": "execute_result"
    }
   ],
   "source": [
    "st.replace('koshy' , 'stewie')\n"
   ]
  },
  {
   "cell_type": "code",
   "execution_count": 13,
   "id": "9089eb3d-f862-48b7-abfd-0771da0bfea2",
   "metadata": {},
   "outputs": [
    {
     "data": {
      "text/plain": [
       "'MY NAME IS KOSHY'"
      ]
     },
     "execution_count": 13,
     "metadata": {},
     "output_type": "execute_result"
    }
   ],
   "source": [
    "st.upper()"
   ]
  },
  {
   "cell_type": "code",
   "execution_count": null,
   "id": "556f9e84-5288-44cc-ac3e-2088e1a2ba87",
   "metadata": {},
   "outputs": [],
   "source": []
  }
 ],
 "metadata": {
  "kernelspec": {
   "display_name": "Python 3 (ipykernel)",
   "language": "python",
   "name": "python3"
  },
  "language_info": {
   "codemirror_mode": {
    "name": "ipython",
    "version": 3
   },
   "file_extension": ".py",
   "mimetype": "text/x-python",
   "name": "python",
   "nbconvert_exporter": "python",
   "pygments_lexer": "ipython3",
   "version": "3.11.7"
  }
 },
 "nbformat": 4,
 "nbformat_minor": 5
}
